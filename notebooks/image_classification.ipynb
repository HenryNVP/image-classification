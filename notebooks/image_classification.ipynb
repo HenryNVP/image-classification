{
 "cells": [
  {
   "cell_type": "markdown",
   "id": "44e2c379",
   "metadata": {},
   "source": [
    "# Image Classification - Deep Learning\n",
    "\n",
    "This notebook mirrors the CLI workflow for training RegNetY-016 on the Oxford-IIIT Pet dataset."
   ]
  },
  {
   "cell_type": "markdown",
   "id": "6bbb0a8c",
   "metadata": {},
   "source": [
    "## 1. Environment Setup\n",
    "Install dependencies (choose matching CUDA wheel if needed)."
   ]
  },
  {
   "cell_type": "code",
   "execution_count": null,
   "id": "0a9dcab1",
   "metadata": {},
   "outputs": [],
   "source": [
    "!git clone https://github.com/HenryNVP/image-classification.git\n",
    "%cd image-classification"
   ]
  },
  {
   "cell_type": "code",
   "execution_count": null,
   "id": "1182eaeb",
   "metadata": {
    "collapsed": false
   },
   "outputs": [],
   "source": [
    "!pip install -r requirements.txt"
   ]
  },
  {
   "cell_type": "markdown",
   "id": "03120ce4",
   "metadata": {},
   "source": [
    "## 2. Download and Prepare Data\n",
    "This downloads the official dataset and prepares 256x256 splits."
   ]
  },
  {
   "cell_type": "code",
   "execution_count": null,
   "id": "b4b1c35b",
   "metadata": {},
   "outputs": [],
   "source": [
    "!python scripts/get_data.py\n",
    "!python scripts/split_dataset.py"
   ]
  },
  {
   "cell_type": "markdown",
   "id": "fea7bcbc",
   "metadata": {},
   "source": [
    "## 3. Train the Model\n",
    "Launch training using the merged configs."
   ]
  },
  {
   "cell_type": "code",
   "execution_count": null,
   "id": "edf3b1bb",
   "metadata": {},
   "outputs": [],
   "source": [
    "!python train.py --plot"
   ]
  },
  {
   "cell_type": "markdown",
   "id": "7dfae42a",
   "metadata": {},
   "source": [
    "## 4. Evaluate\n",
    "Evaluate the best checkpoint on the validation split."
   ]
  },
  {
   "cell_type": "code",
   "execution_count": null,
   "id": "feca8183",
   "metadata": {},
   "outputs": [],
   "source": [
    "!python validate.py --checkpoint checkpoints/regnety_016/best.pth --split val"
   ]
  },
  {
   "cell_type": "markdown",
   "id": "892b3c5d",
   "metadata": {},
   "source": [
    "## 5. Inspect Predictions\n",
    "Example visualization of model outputs."
   ]
  },
  {
   "cell_type": "code",
   "execution_count": null,
   "id": "8615586d",
   "metadata": {},
   "outputs": [],
   "source": [
    "import torch\n",
    "from pathlib import Path\n",
    "from torchvision import transforms\n",
    "from PIL import Image\n",
    "import matplotlib.pyplot as plt\n",
    "\n",
    "from src.config import load_configs\n",
    "from src.data import ImageClassificationDataset\n",
    "from src.models import create_model\n",
    "from src.utils import get_device\n",
    "\n",
    "cfg_paths = [\n",
    "    Path('configs/train.yaml'),\n",
    "    Path('configs/data.yaml'),\n",
    "    Path('configs/model/regnety_016.yaml'),\n",
    "    Path('configs/aug.yaml'),\n",
    "]\n",
    "config = load_configs(cfg_paths)\n",
    "\n",
    "model_cfg = config['model']\n",
    "model = create_model(type('Cfg', (), model_cfg))\n",
    "device = torch.device(get_device())\n",
    "model.load_state_dict(torch.load('checkpoints/regnety_016/best.pth', map_location=device)['model_state'])\n",
    "model.eval()\n",
    "model.to(device)\n",
    "\n",
    "dataset = ImageClassificationDataset('data/val', 'data/val_labels.csv', train=False)\n",
    "idx = torch.randint(0, len(dataset), ()).item()\n",
    "image, label = dataset[idx]\n",
    "with torch.no_grad():\n",
    "    logits = model(image.unsqueeze(0).to(device))\n",
    "prob = torch.softmax(logits, dim=1).squeeze(0)\n",
    "\n",
    "# Get class names\n",
    "class_names = dataset.classes\n",
    "\n",
    "print('Sample index:', idx)\n",
    "print('Ground truth label:', label, f'({class_names[label]})')\n",
    "print('Top-5 probabilities:', prob.topk(5))\n",
    "print('Top prediction:', prob.topk(1).indices.item(), f'({class_names[prob.topk(1).indices.item()]})')\n",
    "\n",
    "# Display the image\n",
    "plt.imshow(image.permute(1, 2, 0)) # Permute to HWC format for matplotlib\n",
    "plt.title(f\"Ground Truth: {class_names[label]}, Prediction: {class_names[prob.topk(1).indices.item()]}\")\n",
    "plt.axis('off')\n",
    "plt.show()\n"
   ]
  }
 ],
 "metadata": {
  "kernelspec": {
   "display_name": "Python 3",
   "name": "python3"
  },
  "language_info": {
   "name": "python",
   "version": "3.x"
  }
 },
 "nbformat": 4,
 "nbformat_minor": 5
}
