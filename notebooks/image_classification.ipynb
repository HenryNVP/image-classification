{
 "cells": [
  {
   "cell_type": "markdown",
   "id": "08dd0085",
   "metadata": {},
   "source": [
    "# Image Classification\n",
    "## Deep Learning"
   ]
  },
  {
   "cell_type": "markdown",
   "id": "9bf28500",
   "metadata": {},
   "source": [
    "## Download The Oxford-IIIT Pet Dataset"
   ]
  },
  {
   "cell_type": "code",
   "execution_count": null,
   "id": "bc989020",
   "metadata": {
    "vscode": {
     "languageId": "plaintext"
    }
   },
   "outputs": [],
   "source": [
    "!apt -q install aria2\n"
   ]
  },
  {
   "cell_type": "code",
   "execution_count": null,
   "id": "17e0a7f8",
   "metadata": {
    "vscode": {
     "languageId": "plaintext"
    }
   },
   "outputs": [],
   "source": [
    "!wget https://academictorrents.com/download/b18bbd9ba03d50b0f7f479acc9f4228a408cecc1.torrent -O tiny-imagenet.torrent"
   ]
  },
  {
   "cell_type": "code",
   "execution_count": null,
   "id": "cfb7df2c",
   "metadata": {
    "vscode": {
     "languageId": "plaintext"
    }
   },
   "outputs": [],
   "source": [
    "!aria2c --seed-time=0 -d /content -o tiny-imagenet-200.zip tiny-imagenet.torrent"
   ]
  },
  {
   "cell_type": "code",
   "execution_count": null,
   "id": "1faf6140",
   "metadata": {
    "vscode": {
     "languageId": "plaintext"
    }
   },
   "outputs": [],
   "source": [
    "!unzip -q /content/tiny-imagenet-200.zip -d /content/"
   ]
  }
 ],
 "metadata": {
  "language_info": {
   "name": "python"
  }
 },
 "nbformat": 4,
 "nbformat_minor": 5
}
